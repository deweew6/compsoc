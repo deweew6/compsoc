from bs4 import BeautifulSoup ##A package to work with HTML data
import requests #A package to make HTTP requests
from thefuzz import process


LINK = "https://ic2s2-2023.org/program"
r = requests.get(LINK)
soup = BeautifulSoup(r.content) 



scrape = soup.find_all("i")


names = []
for i in scrape:
    for name in i.strings:
        names.append(name)



# Process each name in the list
cleaned_names = []
for name in names:
    name = name.removeprefix("Chair: ")  # Remove "Chair: " prefix
    split_names = [n.strip() for n in name.split(",") if n.strip()]  # Split by comma & clean spaces
    cleaned_names.extend(split_names)  # Add cleaned names to the final list

len(cleaned_names)



