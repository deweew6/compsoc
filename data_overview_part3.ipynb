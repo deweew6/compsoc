{
 "cells": [
  {
   "cell_type": "markdown",
   "metadata": {},
   "source": [
    "## Dataset Summary\n",
    "### The IC2S2 papers dataset contains X research works. In total, Y unique researchers have co-authored these works. The dataset includes metadata such as publication year, citation count, and author IDs, which help in analyzing academic influence and collaboration patterns."
   ]
  },
  {
   "cell_type": "markdown",
   "metadata": {},
   "source": []
  },
  {
   "cell_type": "markdown",
   "metadata": {},
   "source": [
    "## Filtering Criteria and Dataset Relevance\n",
    "### The filtering criteria ensured that only relevant papers were included. The citation count threshold (minimum 10 citations) helped focus on well-recognized research, while the authorship limit (max 10 authors per paper) prevented large, collaborative works from dominating the dataset. The subject filter ensured that only papers relevant to Computational Social Science were selected. However, these choices might have excluded emerging research with fewer citations and underrepresented interdisciplinary studies that do not fit neatly into predefined categories."
   ]
  },
  {
   "cell_type": "code",
   "execution_count": null,
   "metadata": {},
   "outputs": [],
   "source": []
  }
 ],
 "metadata": {
  "kernelspec": {
   "display_name": "IntelligentSystems",
   "language": "python",
   "name": "python3"
  },
  "language_info": {
   "name": "python",
   "version": "3.12.5"
  }
 },
 "nbformat": 4,
 "nbformat_minor": 2
}
