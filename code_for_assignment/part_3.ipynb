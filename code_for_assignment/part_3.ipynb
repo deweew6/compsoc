{
 "cells": [
  {
   "cell_type": "markdown",
   "metadata": {},
   "source": [
    "# Part 3 "
   ]
  },
  {
   "cell_type": "code",
   "execution_count": null,
   "metadata": {},
   "outputs": [],
   "source": [
    "import requests\n",
    "import time\n",
    "import pandas as pd\n",
    "import threading\n",
    "from concurrent.futures import ThreadPoolExecutor\n",
    "\n",
    "def rate_limited_get(url, rate_limiter):\n",
    "    \"\"\"Handles API rate limiting.\"\"\"\n",
    "    while True:\n",
    "        response = requests.get(url)\n",
    "        if response.status_code == 200:\n",
    "            return response.json()\n",
    "        elif response.status_code == 429:\n",
    "            time.sleep(1)  # Wait and retry if rate-limited\n",
    "        else:\n",
    "            response.raise_for_status()\n",
    "\n",
    "def get_author_id(name):\n",
    "    \"\"\"Retrieve author ID from OpenAlex given the author's name.\"\"\"\n",
    "    url = f\"https://api.openalex.org/authors?search={name}&per_page=1\"\n",
    "    data = rate_limited_get(url, rate_limiter)\n",
    "    return data['results'][0]['id'] if data['results'] else None\n",
    "\n",
    "def get_works_by_author(author_id):\n",
    "    \"\"\"Retrieve works by author ID and apply filters.\"\"\"\n",
    "    works = []\n",
    "    page_url = f\"https://api.openalex.org/works?filter=author.id:{author_id},cited_by_count:>10,authorships_count:<10\"\n",
    "    while page_url:\n",
    "        data = rate_limited_get(page_url, rate_limiter)\n",
    "        works.extend(data['results'])\n",
    "        page_url = data.get('meta', {}).get('next_cursor')\n",
    "    return works\n",
    "\n",
    "def fetch_data_for_authors(author_names):\n",
    "    \"\"\"Fetch works data for multiple authors in parallel.\"\"\"\n",
    "    author_ids = [get_author_id(name) for name in author_names]\n",
    "    author_ids = [aid for aid in author_ids if aid]\n",
    "    all_works = []\n",
    "    with ThreadPoolExecutor(max_workers=5) as executor:\n",
    "        results = executor.map(get_works_by_author, author_ids)\n",
    "        for res in results:\n",
    "            all_works.extend(res)\n",
    "    return all_works\n",
    "\n",
    "def process_works(works):\n",
    "    \"\"\"Process works into DataFrame format.\"\"\"\n",
    "    papers_data = []\n",
    "    abstracts_data = []\n",
    "    for work in works:\n",
    "        papers_data.append({\n",
    "            'id': work['id'],\n",
    "            'publication_year': work.get('publication_year', 'Unknown'),\n",
    "            'cited_by_count': work.get('cited_by_count', 0),\n",
    "            'author_ids': [a['author']['id'] for a in work.get('authorships', [])]\n",
    "        })\n",
    "        abstracts_data.append({\n",
    "            'id': work['id'],\n",
    "            'title': work.get('title', 'Unknown'),\n",
    "            'abstract_inverted_index': work.get('abstract_inverted_index', '')\n",
    "        })\n",
    "    return pd.DataFrame(papers_data), pd.DataFrame(abstracts_data)\n"
   ]
  }
 ],
 "metadata": {
  "kernelspec": {
   "display_name": "IntelligentSystems",
   "language": "python",
   "name": "python3"
  },
  "language_info": {
   "codemirror_mode": {
    "name": "ipython",
    "version": 3
   },
   "file_extension": ".py",
   "mimetype": "text/x-python",
   "name": "python",
   "nbconvert_exporter": "python",
   "pygments_lexer": "ipython3",
   "version": "3.12.5"
  }
 },
 "nbformat": 4,
 "nbformat_minor": 2
}
