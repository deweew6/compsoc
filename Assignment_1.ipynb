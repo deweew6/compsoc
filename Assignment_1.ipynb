{
 "cells": [
  {
   "cell_type": "code",
   "execution_count": 149,
   "metadata": {},
   "outputs": [],
   "source": [
    "import requests\n",
    "from bs4 import BeautifulSoup\n",
    "import urllib.parse\n",
    "from tqdm import tqdm\n",
    "import pandas as pd"
   ]
  },
  {
   "cell_type": "markdown",
   "metadata": {},
   "source": [
    "<h1 align=\"center\">PART 1</h1>"
   ]
  },
  {
   "cell_type": "code",
   "execution_count": 150,
   "metadata": {},
   "outputs": [],
   "source": [
    "def scrape_names():\n",
    "    program_url = \"https://ic2s2-2023.org/program\" # Program URL\n",
    "    chairs_url = \"https://ic2s2-2023.org/organization\" # Chairs URL\n",
    "    keynotes_url = \"https://ic2s2-2023.org/keynotes\" # Keynotes URL\n",
    "\n",
    "    # Scrape program page\n",
    "    program_response = requests.get(program_url)\n",
    "    program_soup = BeautifulSoup(program_response.text, 'html.parser')\n",
    "    program_names = [tag.get_text(strip=True) for tag in program_soup.find_all('u')] # names are stored in <u> tags\n",
    "\n",
    "    # Scrape chairs page\n",
    "    chairs_response = requests.get(chairs_url)\n",
    "    chairs_soup = BeautifulSoup(chairs_response.text, 'html.parser')\n",
    "    chairs_names = [a.get_text(strip=True) for a in chairs_soup.select(\"h3 a\")] # names are stored in <a> within <h3> tags\n",
    "\n",
    "    # Scape keynotes page\n",
    "    keynotes_response = requests.get(keynotes_url)\n",
    "    keynotes_soup = BeautifulSoup(keynotes_response.text, 'html.parser')\n",
    "    keynotes_names = [a.get_text(strip=True) for a in keynotes_soup.select(\"h3 a\")] # names are stored in <a> within <h3> tags again\n",
    "\n",
    "    # Returning names in dict \n",
    "    return {\n",
    "        \"program_names\": program_names,\n",
    "        \"chairs_names\": chairs_names,\n",
    "        \"keynotes_names\": keynotes_names\n",
    "    }"
   ]
  },
  {
   "cell_type": "code",
   "execution_count": 151,
   "metadata": {},
   "outputs": [],
   "source": [
    "names = scrape_names() # Getting all names\n",
    "\n",
    "Elements_to_remove = [\"SAGE\", \"DIREC\", \"EPJ\", \"Esteban Moro (EPJkeynote)\"] # Found some errors in keynotes_names - we just remove them manually\n",
    "for element in Elements_to_remove:\n",
    "    names[\"keynotes_names\"].remove(element)\n",
    "\n",
    "names[\"keynotes_names\"].append(\"Esteban Moro\") # Add back Esteban Moro without the (EPJkeynote) part\n",
    "\n",
    "all_names = names[\"program_names\"] + names[\"chairs_names\"] + names[\"keynotes_names\"] # combining all names into a list\n",
    "\n",
    "all_names = list(set(all_names)) # This removes 123 duplicates"
   ]
  },
  {
   "cell_type": "code",
   "execution_count": 152,
   "metadata": {},
   "outputs": [
    {
     "name": "stdout",
     "output_type": "stream",
     "text": [
      "similar names: [('Michele Tizzoni', 'Michele Tizzani'), ('Carlson Büth', 'Carlson Moses Büth'), ('Francesco Silvestri', 'Francesco Pierri'), ('Katinka den Nijs', 'Katinka Den Nijs'), ('Shintaro Ueki', 'Shintaro Sakai'), ('Kathyrn R Fair', 'Kathyrn Fair'), ('Sonja M Schmer-Galunder', 'Sonja M Schmer Galunder')]\n"
     ]
    }
   ],
   "source": [
    "\n",
    "# < ---- > \n",
    "# Method to find highly similar names\n",
    "# Should work with defualt python libs\n",
    "\n",
    "from difflib import SequenceMatcher\n",
    "\n",
    "def are_almost_similar(s1, s2, threshold=0.8):\n",
    "    return SequenceMatcher(None, s1, s2).ratio() >= threshold\n",
    "\n",
    "def find_similar_names(all_names, threshold=0.8):\n",
    "    similar_pairs = []\n",
    "    for i in range(len(all_names)):\n",
    "        for j in range(i + 1, len(all_names)):\n",
    "            if are_almost_similar(all_names[i], all_names[j], threshold):\n",
    "                similar_pairs.append((all_names[i], all_names[j]))\n",
    "    return similar_pairs\n",
    "\n",
    "# < ---- >\n",
    "\n",
    "# Find and print similar names\n",
    "similar_names = find_similar_names(all_names, threshold=0.8)\n",
    "print(f\"similar names: {similar_names}\")\n",
    "\n",
    "# Michele Tizzoni and Michele Tizzani both exists \n",
    "# Doing a manual assessment of similar_names to find what i want to remove\n",
    "names_to_remove = [\"Carlson Büth\", \"Katinka den Nijs\", \"Kathyrn Fair\", \"Sonja M Schmer Galunder\"]\n",
    "for name in names_to_remove: # removing\n",
    "    all_names.remove(name)"
   ]
  },
  {
   "cell_type": "code",
   "execution_count": 153,
   "metadata": {},
   "outputs": [
    {
     "name": "stdout",
     "output_type": "stream",
     "text": [
      "510\n"
     ]
    }
   ],
   "source": [
    "# Final list of names\n",
    "print(len(all_names))"
   ]
  },
  {
   "cell_type": "markdown",
   "metadata": {},
   "source": [
    "## Scarping Names Explained\n",
    "\n",
    "### 1. Inspecting URLs\n",
    "First, I inspected all the URLs to determine the structure in which the names were stored.\n",
    "\n",
    "### 2. Collecting and Printing Names\n",
    "Then, I collected all the names and printed them from each URL to verify that the extraction worked correctly.\n",
    "\n",
    "### 3. Handling Errors\n",
    "During this process, I found some errors in `keynotes_names`, but only **four names** were incorrect, so I removed them manually.\n",
    "\n",
    "### 4. Removing Duplicates\n",
    "Next, I used Python’s `set()` function to eliminate duplicates.\n",
    "\n",
    "### 5. Finding Similar Names\n",
    "I implemented a method to identify **slightly similar** names. After finding some matches, I manually reviewed each similar pair and decided how to handle them.\n"
   ]
  },
  {
   "cell_type": "markdown",
   "metadata": {},
   "source": [
    "<h1 align=\"center\">PART 2</h1>"
   ]
  },
  {
   "cell_type": "markdown",
   "metadata": {},
   "source": [
    "<h1 align=\"center\">PART 3</h1>"
   ]
  },
  {
   "cell_type": "code",
   "execution_count": 154,
   "metadata": {},
   "outputs": [
    {
     "name": "stderr",
     "output_type": "stream",
     "text": [
      "100%|██████████| 510/510 [18:36<00:00,  2.19s/it] "
     ]
    },
    {
     "name": "stdout",
     "output_type": "stream",
     "text": [
      "\n",
      "Total authors not found: 36\n",
      "\n",
      "Total unique articles found across 510 authors with filters applied: 12016\n"
     ]
    },
    {
     "name": "stderr",
     "output_type": "stream",
     "text": [
      "\n"
     ]
    }
   ],
   "source": [
    "# -------------------------\n",
    "#       Converting names to IDs if the names exists in OpenAlex - otherwise skipping\n",
    "# -------------------------\n",
    "def convert_author_name_to_id(name):\n",
    "\n",
    "    query = urllib.parse.quote(name)\n",
    "    url = f\"https://api.openalex.org/authors?search={query}\"\n",
    "    \n",
    "    try:\n",
    "        response = requests.get(url)\n",
    "        response.raise_for_status()\n",
    "    except requests.exceptions.HTTPError as e:\n",
    "        print(f\"Error searching for author {name}: {e}\")\n",
    "        return None\n",
    "\n",
    "    data = response.json()\n",
    "\n",
    "    # If no results, return None\n",
    "    if \"results\" not in data or len(data[\"results\"]) == 0:\n",
    "        return None\n",
    "    \n",
    "    # Take the first result\n",
    "    first_result = data[\"results\"][0]\n",
    "    openalex_id_url = first_result[\"id\"]\n",
    "    author_id = openalex_id_url\n",
    "\n",
    "    return author_id\n",
    "\n",
    "# -------------------------\n",
    "#       Collecting all works done by the authors. We use pagination to get all articles if there is more than 200\n",
    "# -------------------------\n",
    "def get_works_by_author_id(author_id):\n",
    "    base_url = \"https://api.openalex.org/works\"\n",
    "    all_works = []\n",
    "\n",
    "    sort_param = \"publication_date:desc\"\n",
    "\n",
    "    next_url = (\n",
    "        f\"{base_url}\"\n",
    "        f\"?filter=author.id:{author_id}\"\n",
    "        f\"&cursor=*\"               # * for multi-page results\n",
    "        f\"&per-page=200\"\n",
    "        f\"&sort={sort_param}\"\n",
    "    )\n",
    "\n",
    "    while next_url:\n",
    "        response = requests.get(next_url)\n",
    "        response.raise_for_status()\n",
    "        data = response.json()\n",
    "\n",
    "        total_count = data[\"meta\"].get(\"count\", 0)\n",
    "        if not 5 <= total_count <= 5000:\n",
    "            return None\n",
    "\n",
    "        # Add all works from this page to the list\n",
    "        all_works.extend(data[\"results\"])\n",
    "\n",
    "        # Look for a next page in meta\n",
    "        next_cursor = data[\"meta\"].get(\"next_cursor\")\n",
    "        if next_cursor:\n",
    "            next_url = (\n",
    "                f\"{base_url}\"\n",
    "                f\"?filter=author.id:{author_id}\"\n",
    "                f\"&cursor={next_cursor}\"      \n",
    "                f\"&per-page=200\"\n",
    "                f\"&sort={sort_param}\"\n",
    "            )\n",
    "        else:\n",
    "            next_url = None\n",
    "\n",
    "    return all_works\n",
    "\n",
    "\n",
    "# -------------------------\n",
    "#       Looping over each name in authors and collecting all their work and their id. \n",
    "#       Storing the data in a dict with the work_id as key - but only keeping unique articles/works and apllying filters\n",
    "# -------------------------\n",
    "authors = all_names\n",
    "unique_works = {}\n",
    "num_authors_not_found = 0\n",
    "\n",
    "for name in tqdm(authors):\n",
    "    author_id = convert_author_name_to_id(name)\n",
    "    if author_id is None:\n",
    "        num_authors_not_found += 1\n",
    "        continue # skip if we dont find an id for a given name\n",
    "\n",
    "    works = get_works_by_author_id(author_id)\n",
    "\n",
    "    if works: # To make sure we only have authors with work count between 5 and 5000\n",
    "        for w in works:\n",
    "            work_id = w.get(\"id\") \n",
    "            if work_id not in unique_works and w.get(\"cited_by_count\") > 10 and len(w.get(\"authorships\", [])) < 10: # filters\n",
    "                publication_year = w.get(\"publication_year\")\n",
    "                cited_by_count = w.get(\"cited_by_count\")\n",
    "                title = w.get(\"title\")\n",
    "                abstract_inverted_index = w.get(\"abstract_inverted_index\")\n",
    "                \n",
    "                author_ids = []\n",
    "                for auth in w.get(\"authorships\", []):\n",
    "                    author_obj = auth.get(\"author\", {})\n",
    "                    author_id_field = author_obj.get(\"id\")\n",
    "                    if author_id_field:\n",
    "                        author_ids.append(author_id_field)\n",
    "\n",
    "                # Store data from each unique work in dict\n",
    "                unique_works[work_id] = {\n",
    "                    \"id\": work_id,\n",
    "                    \"publication_year\": publication_year,\n",
    "                    \"cited_by_count\": cited_by_count,\n",
    "                    \"author_ids\": author_ids,\n",
    "                    \"title\": title,\n",
    "                    \"abstract_inverted_index\": abstract_inverted_index\n",
    "                }\n",
    "\n",
    "print(f\"\\nTotal authors not found: {num_authors_not_found}\")\n",
    "print(f\"\\nTotal unique articles found across {len(authors)} authors with filters applied:\", len(unique_works))"
   ]
  },
  {
   "cell_type": "code",
   "execution_count": 155,
   "metadata": {},
   "outputs": [],
   "source": [
    "# -------------------------\n",
    "#       Using the data from unique_works to create two dataframes - one for papers and one for abstracts\n",
    "# -------------------------\n",
    "papers_data = []\n",
    "abstracts_data = []\n",
    "\n",
    "for work_id, work in unique_works.items():\n",
    "    papers_data.append({\n",
    "        \"id\": work[\"id\"],\n",
    "        \"publication_year\": work[\"publication_year\"],\n",
    "        \"cited_by_count\": work[\"cited_by_count\"],\n",
    "        \"author_ids\": \",\".join(work[\"author_ids\"])  \n",
    "    })\n",
    "    abstracts_data.append({\n",
    "        \"id\": work[\"id\"],\n",
    "        \"title\": work[\"title\"],\n",
    "        \"abstract_inverted_index\": work[\"abstract_inverted_index\"]\n",
    "    })\n",
    "\n",
    "df_papers = pd.DataFrame(papers_data)\n",
    "df_abstracts = pd.DataFrame(abstracts_data)\n",
    "\n",
    "df_papers.to_csv(\"IC2S2_papers.csv\", index=False)\n",
    "df_abstracts.to_csv(\"IC2S2_abstracts.csv\", index=False)"
   ]
  },
  {
   "cell_type": "markdown",
   "metadata": {},
   "source": [
    "<h1 align=\"center\">PART 4</h1>"
   ]
  }
 ],
 "metadata": {
  "kernelspec": {
   "display_name": "base",
   "language": "python",
   "name": "python3"
  },
  "language_info": {
   "codemirror_mode": {
    "name": "ipython",
    "version": 3
   },
   "file_extension": ".py",
   "mimetype": "text/x-python",
   "name": "python",
   "nbconvert_exporter": "python",
   "pygments_lexer": "ipython3",
   "version": "3.10.8"
  }
 },
 "nbformat": 4,
 "nbformat_minor": 2
}
