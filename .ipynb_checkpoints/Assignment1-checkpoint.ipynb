{
 "cells": [
  {
   "cell_type": "code",
   "execution_count": 241,
   "id": "5422bea4-578e-4a1a-b300-f4d9faddc9e7",
   "metadata": {},
   "outputs": [],
   "source": [
    "from bs4 import BeautifulSoup ##A package to work with HTML data\n",
    "import requests #A package to make HTTP requests\n",
    "from thefuzz import process"
   ]
  },
  {
   "cell_type": "code",
   "execution_count": 188,
   "id": "da818436-1b52-4bc8-b75a-b68ad3bc60a4",
   "metadata": {},
   "outputs": [],
   "source": [
    "LINK = \"https://ic2s2-2023.org/program\"\n",
    "r = requests.get(LINK)\n",
    "soup = BeautifulSoup(r.content) \n"
   ]
  },
  {
   "cell_type": "code",
   "execution_count": 190,
   "id": "d7b811b8-c23d-4803-ae74-05bcd1b73083",
   "metadata": {},
   "outputs": [],
   "source": [
    "scrape = soup.find_all(\"i\")"
   ]
  },
  {
   "cell_type": "code",
   "execution_count": 218,
   "id": "342bcaec-8390-4281-9b13-c1d0bd621685",
   "metadata": {},
   "outputs": [],
   "source": [
    "names = []\n",
    "for i in scrape:\n",
    "    for name in i.strings:\n",
    "        names.append(name)"
   ]
  },
  {
   "cell_type": "code",
   "execution_count": 239,
   "id": "917ed102-f32f-4f14-816a-270f73d5634e",
   "metadata": {},
   "outputs": [
    {
     "name": "stdout",
     "output_type": "stream",
     "text": [
      "2092\n"
     ]
    }
   ],
   "source": [
    "\n",
    "\n",
    "cleaned_names = []\n",
    "for name in names:\n",
    "    name = name.removeprefix(\"Chair: \") \n",
    "    split_names = [n.strip() for n in name.split(\",\") if n.strip()] \n",
    "    cleaned_names.extend(split_names)\n",
    "\n",
    "print(len(cleaned_names))\n"
   ]
  },
  {
   "cell_type": "code",
   "execution_count": 245,
   "id": "cc5934f7-9539-41c1-8b47-684bb5cbb4d7",
   "metadata": {},
   "outputs": [],
   "source": [
    "unique_names = []\n",
    "seen = set()\n",
    "\n",
    "for name in cleaned_names:\n",
    "    normalized_name = name.lower()\n",
    "    \n",
    "    match = process.extractOne(normalized_name, seen, score_cutoff=85) if seen else None\n",
    "    \n",
    "    if match is None:  \n",
    "        unique_names.append(name)\n",
    "        seen.add(normalized_name)"
   ]
  },
  {
   "cell_type": "code",
   "execution_count": 259,
   "id": "369bdf04-e8e9-4fb0-ba25-1ad90bbb75e3",
   "metadata": {},
   "outputs": [
    {
     "name": "stdout",
     "output_type": "stream",
     "text": [
      "1277\n"
     ]
    }
   ],
   "source": [
    "print(len(unique_names))"
   ]
  },
  {
   "cell_type": "code",
   "execution_count": 257,
   "id": "61f3390c-9c76-4c6e-8c80-a8d4e947fe1e",
   "metadata": {},
   "outputs": [],
   "source": [
    "for name in unique_names:\n",
    "    if len(name.split()) < 2:\n",
    "        unique_names.remove(name)"
   ]
  },
  {
   "cell_type": "code",
   "execution_count": 265,
   "id": "2271a44b-789d-4a40-9d21-4768e6ee7272",
   "metadata": {},
   "outputs": [],
   "source": [
    "with open(\"web_scraped_names.txt\", \"w\", encoding=\"utf-8\") as file:\n",
    "    for name in unique_names:\n",
    "        file.write(name + \"\\n\")"
   ]
  },
  {
   "cell_type": "code",
   "execution_count": null,
   "id": "c47d6bc6-b522-4db0-ada0-fb5959dc54cf",
   "metadata": {},
   "outputs": [],
   "source": []
  }
 ],
 "metadata": {
  "kernelspec": {
   "display_name": "Python 3 (ipykernel)",
   "language": "python",
   "name": "python3"
  },
  "language_info": {
   "codemirror_mode": {
    "name": "ipython",
    "version": 3
   },
   "file_extension": ".py",
   "mimetype": "text/x-python",
   "name": "python",
   "nbconvert_exporter": "python",
   "pygments_lexer": "ipython3",
   "version": "3.12.4"
  }
 },
 "nbformat": 4,
 "nbformat_minor": 5
}
